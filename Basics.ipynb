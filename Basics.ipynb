{
 "cells": [
  {
   "cell_type": "code",
   "execution_count": 1,
   "metadata": {
    "collapsed": false
   },
   "outputs": [
    {
     "name": "stdout",
     "output_type": "stream",
     "text": [
      "[['', 'year', 'month', 'intent', 'police', 'sex', 'age', 'race', 'hispanic', 'place', 'education'], ['1', '2012', '01', 'Suicide', '0', 'M', '34', 'Asian/Pacific Islander', '100', 'Home', '4'], ['2', '2012', '01', 'Suicide', '0', 'F', '21', 'White', '100', 'Street', '3'], ['3', '2012', '01', 'Suicide', '0', 'M', '60', 'White', '100', 'Other specified', '4'], ['4', '2012', '02', 'Suicide', '0', 'M', '64', 'White', '100', 'Home', '4']]\n"
     ]
    }
   ],
   "source": [
    "import csv\n",
    "f=open(\"guns.csv\",'r')\n",
    "csvl=csv.reader(f)\n",
    "data=list(csvl)\n",
    "print(data[:5])"
   ]
  },
  {
   "cell_type": "code",
   "execution_count": 3,
   "metadata": {
    "collapsed": false
   },
   "outputs": [
    {
     "name": "stdout",
     "output_type": "stream",
     "text": [
      "['', 'year', 'month', 'intent', 'police', 'sex', 'age', 'race', 'hispanic', 'place', 'education']\n",
      "[['1', '2012', '01', 'Suicide', '0', 'M', '34', 'Asian/Pacific Islander', '100', 'Home', '4'], ['2', '2012', '01', 'Suicide', '0', 'F', '21', 'White', '100', 'Street', '3'], ['3', '2012', '01', 'Suicide', '0', 'M', '60', 'White', '100', 'Other specified', '4'], ['4', '2012', '02', 'Suicide', '0', 'M', '64', 'White', '100', 'Home', '4'], ['5', '2012', '02', 'Suicide', '0', 'M', '31', 'White', '100', 'Other specified', '2']]\n"
     ]
    }
   ],
   "source": [
    "headers=data[0]\n",
    "print(headers)\n",
    "data=data[1:]\n",
    "print(data[:5])"
   ]
  },
  {
   "cell_type": "code",
   "execution_count": 9,
   "metadata": {
    "collapsed": false
   },
   "outputs": [
    {
     "name": "stdout",
     "output_type": "stream",
     "text": [
      "{'2013': 33636, '2012': 33563, '2014': 33599}\n"
     ]
    }
   ],
   "source": [
    "year_count={}\n",
    "years=[]\n",
    "for i in data:\n",
    "    years=i[1]\n",
    "    if years in year_count:\n",
    "        year_count[years]=year_count[years]+1\n",
    "    else:\n",
    "        year_count[years]=1\n",
    "print(year_count)\n",
    "\n"
   ]
  },
  {
   "cell_type": "code",
   "execution_count": 13,
   "metadata": {
    "collapsed": false
   },
   "outputs": [
    {
     "name": "stdout",
     "output_type": "stream",
     "text": [
      "[datetime.datetime(2012, 1, 1, 0, 0), datetime.datetime(2012, 1, 1, 0, 0), datetime.datetime(2012, 1, 1, 0, 0), datetime.datetime(2012, 2, 1, 0, 0), datetime.datetime(2012, 2, 1, 0, 0)]\n"
     ]
    }
   ],
   "source": [
    "import datetime\n",
    "dates=[]\n",
    "for r in data:\n",
    "    yer=r[1]\n",
    "    yer=int(yer)\n",
    "    months=r[2]\n",
    "    months=int(months)\n",
    "    dat=datetime.datetime(year=yer, month= months,day=1)\n",
    "    dates.append(dat)\n",
    "print(dates[:5])"
   ]
  },
  {
   "cell_type": "code",
   "execution_count": 14,
   "metadata": {
    "collapsed": false
   },
   "outputs": [
    {
     "name": "stdout",
     "output_type": "stream",
     "text": [
      "{datetime.datetime(2014, 9, 1, 0, 0): 2914, datetime.datetime(2014, 2, 1, 0, 0): 2361, datetime.datetime(2014, 7, 1, 0, 0): 2884, datetime.datetime(2012, 6, 1, 0, 0): 2826, datetime.datetime(2013, 6, 1, 0, 0): 2920, datetime.datetime(2013, 10, 1, 0, 0): 2808, datetime.datetime(2013, 12, 1, 0, 0): 2765, datetime.datetime(2014, 5, 1, 0, 0): 2864, datetime.datetime(2013, 5, 1, 0, 0): 2806, datetime.datetime(2012, 11, 1, 0, 0): 2729, datetime.datetime(2014, 11, 1, 0, 0): 2756, datetime.datetime(2014, 8, 1, 0, 0): 2970, datetime.datetime(2012, 8, 1, 0, 0): 2954, datetime.datetime(2012, 10, 1, 0, 0): 2733, datetime.datetime(2012, 7, 1, 0, 0): 3026, datetime.datetime(2013, 3, 1, 0, 0): 2862, datetime.datetime(2014, 1, 1, 0, 0): 2651, datetime.datetime(2013, 1, 1, 0, 0): 2864, datetime.datetime(2013, 7, 1, 0, 0): 3079, datetime.datetime(2013, 9, 1, 0, 0): 2742, datetime.datetime(2013, 8, 1, 0, 0): 2859, datetime.datetime(2012, 12, 1, 0, 0): 2791, datetime.datetime(2013, 4, 1, 0, 0): 2798, datetime.datetime(2014, 6, 1, 0, 0): 2931, datetime.datetime(2014, 10, 1, 0, 0): 2865, datetime.datetime(2012, 4, 1, 0, 0): 2795, datetime.datetime(2013, 2, 1, 0, 0): 2375, datetime.datetime(2014, 3, 1, 0, 0): 2684, datetime.datetime(2012, 3, 1, 0, 0): 2743, datetime.datetime(2012, 5, 1, 0, 0): 2999, datetime.datetime(2014, 4, 1, 0, 0): 2862, datetime.datetime(2014, 12, 1, 0, 0): 2857, datetime.datetime(2012, 1, 1, 0, 0): 2758, datetime.datetime(2013, 11, 1, 0, 0): 2758, datetime.datetime(2012, 2, 1, 0, 0): 2357, datetime.datetime(2012, 9, 1, 0, 0): 2852}\n"
     ]
    }
   ],
   "source": [
    "date_counts={}\n",
    "for i in dates:\n",
    "    if i in date_counts:\n",
    "        date_counts[i]=date_counts[i]+1\n",
    "    else:\n",
    "        date_counts[i]=1\n",
    "print(date_counts)\n",
    "    "
   ]
  },
  {
   "cell_type": "code",
   "execution_count": 19,
   "metadata": {
    "collapsed": false
   },
   "outputs": [],
   "source": [
    "sex_counts={}\n",
    "race_counts={}\n",
    "for i in data:\n",
    "    sex=i[5]\n",
    "    if sex in sex_counts:\n",
    "        sex_counts[sex] = sex_counts[sex] +1\n",
    "    else:\n",
    "        sex_counts[sex] = 1\n",
    "\n",
    "\n"
   ]
  },
  {
   "cell_type": "code",
   "execution_count": 20,
   "metadata": {
    "collapsed": false
   },
   "outputs": [
    {
     "name": "stdout",
     "output_type": "stream",
     "text": [
      "{'M': 86349, 'F': 14449}\n",
      "{'White': 66237, 'Black': 23296, 'Asian/Pacific Islander': 1326, 'Hispanic': 9022, 'Native American/Native Alaskan': 917}\n"
     ]
    }
   ],
   "source": [
    "races=[row[7] for row in data]\n",
    "for race in races:\n",
    "    if race in race_counts:\n",
    "        race_counts[race] = race_counts[race] + 1\n",
    "    else:\n",
    "        race_counts[race] = 1\n",
    "print(sex_counts)\n",
    "print(race_counts)"
   ]
  },
  {
   "cell_type": "code",
   "execution_count": 24,
   "metadata": {
    "collapsed": false
   },
   "outputs": [
    {
     "name": "stdout",
     "output_type": "stream",
     "text": [
      "[['Id', 'Year', 'Id', 'Sex', 'Id', 'Hispanic Origin', 'Id', 'Id2', 'Geography', 'Total', 'Race Alone - White', 'Race Alone - Hispanic', 'Race Alone - Black or African American', 'Race Alone - American Indian and Alaska Native', 'Race Alone - Asian', 'Race Alone - Native Hawaiian and Other Pacific Islander', 'Two or More Races'], ['cen42010', 'April 1, 2010 Census', 'totsex', 'Both Sexes', 'tothisp', 'Total', '0100000US', '', 'United States', '308745538', '197318956', '44618105', '40250635', '3739506', '15159516', '674625', '6984195']]\n"
     ]
    }
   ],
   "source": [
    "import csv\n",
    "file2=open(\"census.csv\",'r')\n",
    "file12=csv.reader(file2)\n",
    "census=list(file12)\n",
    "print(census)"
   ]
  },
  {
   "cell_type": "code",
   "execution_count": 33,
   "metadata": {
    "collapsed": false
   },
   "outputs": [
    {
     "name": "stdout",
     "output_type": "stream",
     "text": [
      "{'White': 33.56849303419181, 'Native American/Native Alaskan': 24.521955573811088, 'Asian/Pacific Islander': 8.374309664161762, 'Hispanic': 20.220491210910907, 'Black': 57.8773477735196}\n"
     ]
    }
   ],
   "source": [
    "mapping={\n",
    "\"Asian/Pacific Islander\":15834141,\n",
    "\"Black\":40250635,\n",
    "\"Hispanic\":44618105,\n",
    "\"Native American/Native Alaskan\":3739506,\n",
    "\"White\":197318956}\n",
    "\n",
    "\n",
    "race_per_hundredk={}\n",
    "for k,v in race_counts.items():\n",
    "    race_per_hundredk[k]=(v/mapping[k]) * 100000\n",
    "print(race_per_hundredk)\n",
    "    "
   ]
  },
  {
   "cell_type": "code",
   "execution_count": 54,
   "metadata": {
    "collapsed": false
   },
   "outputs": [
    {
     "name": "stdout",
     "output_type": "stream",
     "text": [
      "{'White': 9147, 'Black': 19510, 'Asian/Pacific Islander': 559, 'Hispanic': 5634, 'Native American/Native Alaskan': 326}\n",
      "{'White': 4.6356417981453335, 'Native American/Native Alaskan': 8.717729026240365, 'Asian/Pacific Islander': 3.530346230970155, 'Hispanic': 12.627161104219914, 'Black': 48.471284987180944}\n"
     ]
    }
   ],
   "source": [
    "intents = [row[3] for row in data]\n",
    "racet=[row[7] for row in data]\n",
    "\n",
    "homicide_race_counts = {}\n",
    "for i,race in enumerate(racet):\n",
    "    if race not in homicide_race_counts:\n",
    "        homicide_race_counts[race] = 0\n",
    "    if intents[i] == \"Homicide\":\n",
    "        homicide_race_counts[race] += 1\n",
    "print(homicide_race_counts)\n",
    "\n",
    "homicide_race_countsq = {}\n",
    "for k,v in homicide_race_counts.items():\n",
    "    homicide_race_countsq[k] = (v / mapping[k]) * 100000\n",
    "print(homicide_race_countsq)\n",
    "    "
   ]
  },
  {
   "cell_type": "code",
   "execution_count": null,
   "metadata": {
    "collapsed": true
   },
   "outputs": [],
   "source": []
  },
  {
   "cell_type": "code",
   "execution_count": null,
   "metadata": {
    "collapsed": true
   },
   "outputs": [],
   "source": []
  }
 ],
 "metadata": {
  "kernelspec": {
   "display_name": "Python 3",
   "language": "python",
   "name": "python3"
  },
  "language_info": {
   "codemirror_mode": {
    "name": "ipython",
    "version": 3
   },
   "file_extension": ".py",
   "mimetype": "text/x-python",
   "name": "python",
   "nbconvert_exporter": "python",
   "pygments_lexer": "ipython3",
   "version": "3.4.3"
  }
 },
 "nbformat": 4,
 "nbformat_minor": 0
}
